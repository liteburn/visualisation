{
 "cells": [
  {
   "cell_type": "code",
   "execution_count": 1,
   "metadata": {},
   "outputs": [],
   "source": [
    "import altair as alt\n",
    "import pandas as pd\n",
    "import geopandas as gpd"
   ]
  },
  {
   "cell_type": "code",
   "execution_count": 2,
   "metadata": {
    "pycharm": {
     "name": "#%%\n"
    }
   },
   "outputs": [
    {
     "name": "stderr",
     "output_type": "stream",
     "text": [
      "D:\\programs\\Anaconda3\\lib\\site-packages\\geopandas\\array.py:85: ShapelyDeprecationWarning: __len__ for multi-part geometries is deprecated and will be removed in Shapely 2.0. Check the length of the `geoms` property instead to get the  number of parts of a multi-part geometry.\n",
      "  aout[:] = out\n"
     ]
    }
   ],
   "source": [
    "world = gpd.read_file('data/world-countries.json')\n",
    "world.columns =  ['id', 'country', 'geometry']\n",
    "\n",
    "population_df = pd.read_csv('data/population_prospects.csv')\n",
    "population_df = population_df.sort_values(by=\"country\")\n",
    "countries_to_replace = {\"Bahamas\": \"The Bahamas\",\n",
    "                        \"Bolivia (Plurinational State of)\": \"Bolivia\",\n",
    "                        \"Brunei Darussalam\": \"Brunei\",\n",
    "                        \"Congo\": \"Republic of the Congo\",\n",
    "                        \"Czechia\": \"Czech Republic\",\n",
    "                        \"Cote d'Ivoire\": \"Ivory Coast\",\n",
    "                        \"French Guiana\": \"Equatorial Guinea\",\n",
    "                        \"Falkland Islands (Malvinas)\": \"Falkland Islands\",\n",
    "                        \"Guinea-Bissau\": \"Guinea Bissau\",\n",
    "                        \"Iran (Islamic Republic of)\": \"Iran\",\n",
    "                        \"Republic of Korea\": \"South Korea\",\n",
    "                        \"Dem. People's Republic of Korea\": \"North Korea\",\n",
    "                        \"Lao People's Democratic Republic\": \"Laos\",\n",
    "                        \"Republic of Moldova\": \"Moldova\",\n",
    "                        \"North Macedonia\": \"Macedonia\",\n",
    "                        \"Russian Federation\": \"Russia\",\n",
    "                        \"Serbia\": \"Republic of Serbia\",\n",
    "                        \"Syrian Arab Republic\": \"Syria\",\n",
    "                        \"Timor-Leste\": \"East Timor\",\n",
    "                        \"China, Taiwan Province of China\": \"Taiwan\",\n",
    "                        \"Venezuela (Bolivarian Republic of)\": \"Venezuela\",\n",
    "                        \"Viet Nam\": \"Vietnam\"}\n",
    "population_df[\"country\"].replace(countries_to_replace, inplace=True)"
   ]
  },
  {
   "cell_type": "code",
   "execution_count": 3,
   "metadata": {
    "pycharm": {
     "name": "#%%\n"
    }
   },
   "outputs": [
    {
     "name": "stderr",
     "output_type": "stream",
     "text": [
      "<ipython-input-3-c6dc184545f0>:3: SettingWithCopyWarning: \n",
      "A value is trying to be set on a copy of a slice from a DataFrame.\n",
      "Try using .loc[row_indexer,col_indexer] = value instead\n",
      "\n",
      "See the caveats in the documentation: https://pandas.pydata.org/pandas-docs/stable/user_guide/indexing.html#returning-a-view-versus-a-copy\n",
      "  df_population_2100['difference'] = 100*(df_population_2100.population.values - df_population_2001.population.values)/df_population_2001.population.values\n"
     ]
    }
   ],
   "source": [
    "df_population_2100 = population_df[(population_df[\"year\"] == 2100) & (population_df[\"variant\"] == \"Medium variant\")]\n",
    "df_population_2001 = population_df[(population_df[\"year\"] == 2001) & (population_df[\"variant\"] == \"Estimates\")]\n",
    "df_population_2100['difference'] = 100*(df_population_2100.population.values - df_population_2001.population.values)/df_population_2001.population.values"
   ]
  },
  {
   "cell_type": "markdown",
   "metadata": {},
   "source": [
    "# 1.\n",
    "Основна суть даного графіку показати тенденцію в яких країнах збільшиться,а яких зменшиться, з цим він успішно справляється.\n",
    "Основним недоліком є те, що неможливо порівнювати зміну окрім як збільшення або зменшення."
   ]
  },
  {
   "cell_type": "code",
   "execution_count": null,
   "metadata": {
    "pycharm": {
     "name": "#%%\n"
    }
   },
   "outputs": [],
   "source": [
    "alt.Chart(world).transform_lookup(lookup = 'country',\n",
    "    from_ = alt.LookupData(data = df_population_2100, \n",
    "                           key = 'country',\n",
    "                           fields=['difference', 'country'])\n",
    ").project(type = 'equalEarth').transform_calculate(\n",
    "  population_difference=\"datum.difference < 0.0 ? 'Decreased' : 'Increased'\"\n",
    ").mark_geoshape(stroke='gray').encode(tooltip = alt.Tooltip('country:N'),\n",
    "        color = alt.Color(\"population_difference:N\",\n",
    "                      scale=alt.Scale(range = ['#D50032', '#00B52A']),\n",
    "                      legend=alt.Legend(title=None)),\n",
    ").properties(width=900, height=500, padding=25)"
   ]
  },
  {
   "cell_type": "markdown",
   "metadata": {},
   "source": [
    "2.\n",
    "Рішення яке чітко показує % приросту населення або ж його падіння.\n",
    "Особисто на мою думку, оптимальний варіант.\n",
    "Єдиний недолік, важко говорити про очікувану кілкість.\n"
   ]
  },
  {
   "cell_type": "code",
   "execution_count": null,
   "metadata": {
    "pycharm": {
     "name": "#%%\n"
    }
   },
   "outputs": [],
   "source": [
    "domain = [df_population_2100.min()['difference'],-40, -30, -20, -10, 0, 100, 300, 600, 900, df_population_2100.max()['difference']]\n",
    "alt.Chart(world).transform_lookup(\n",
    "    lookup = 'country',\n",
    "    from_ = alt.LookupData(data = df_population_2100,\n",
    "                           key = 'country',\n",
    "                           fields=['difference', 'country'])\n",
    ").project(type = 'equalEarth'\n",
    ").mark_geoshape(stroke='gray').encode(\n",
    "    color = alt.Color('difference:Q',\n",
    "                      scale=alt.Scale(domain=domain, scheme = 'redyellowgreen'),\n",
    "                      title='Percentage difference'),\n",
    "    tooltip = [\n",
    "        alt.Tooltip('country:N'),\n",
    "        alt.Tooltip('difference:N')\n",
    "    ]\n",
    ").properties(title=\"Population percentage change 2001 vs 2100\",\n",
    "             width = 800, height = 500, background = '#F9F9F9', padding = 25)"
   ]
  },
  {
   "cell_type": "code",
   "execution_count": null,
   "outputs": [],
   "source": [
    "3.\n",
    "Хороший для оцінювання кількості, проте доволі важко розібратись в самій інформації.\n",
    "Дано кількість людей в кожній країні і неможливо з чимось порівняти.\n"
   ],
   "metadata": {
    "collapsed": false,
    "pycharm": {
     "name": "#%%\n"
    }
   }
  },
  {
   "cell_type": "code",
   "execution_count": null,
   "metadata": {
    "pycharm": {
     "name": "#%%\n"
    }
   },
   "outputs": [],
   "source": [
    "alt.Chart(world).transform_lookup(\n",
    "    lookup = 'country',\n",
    "    from_ = alt.LookupData(data = df_population_2100,\n",
    "                           key = 'country',\n",
    "                           fields=['population', 'country'])\n",
    ").project(type = 'equalEarth'\n",
    ").mark_geoshape(stroke='gray').encode(\n",
    "    color = alt.Color('population:Q',\n",
    "                      scale=alt.Scale(scheme = 'bluegreen'),\n",
    "                      bin = alt.Bin(step = 100000),\n",
    "                      title='Population 2100'),\n",
    "    tooltip = [\n",
    "        alt.Tooltip('country:N'),\n",
    "        alt.Tooltip('population:N')\n",
    "    ]\n",
    ").properties(title=\"Population 2100\",\n",
    "             width = 800, height = 500, background = '#F9F9F9', padding = 25)\n",
    "\n",
    "\n",
    "\n"
   ]
  }
 ],
 "metadata": {
  "kernelspec": {
   "display_name": "Python 3",
   "language": "python",
   "name": "python3"
  },
  "language_info": {
   "codemirror_mode": {
    "name": "ipython",
    "version": 3
   },
   "file_extension": ".py",
   "mimetype": "text/x-python",
   "name": "python",
   "nbconvert_exporter": "python",
   "pygments_lexer": "ipython3",
   "version": "3.8.5"
  }
 },
 "nbformat": 4,
 "nbformat_minor": 1
}