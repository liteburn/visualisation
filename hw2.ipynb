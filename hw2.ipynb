{
 "cells": [
  {
   "cell_type": "code",
   "execution_count": 1,
   "metadata": {
    "collapsed": true
   },
   "outputs": [
    {
     "data": {
      "text/plain": "       time_date   AES   TEC  VDE   TES     GES  GAES_GEN  consumption  \\\n0  24-31.12.2020  9235  2039  621  4942   385.0         0        16693   \n1  23-31.12.2020  9221  2159  707  5549   470.0         0        17805   \n2  22-31.12.2020  9249  2377  709  5906  1000.0         0        18870   \n3  21-31.12.2020  9256  2499  702  6329   909.0       322        19887   \n4  20-31.12.2020  9213  2521  702  6640   823.0       602        20387   \n\n   GAES_PUMP  UK_BLR_RUS  UK_EURO  UK_MLD  \n0     -405.0       -84.0    -11.0   -29.0  \n1        0.0       -43.0   -212.0   -46.0  \n2        0.0       -13.0   -328.0   -30.0  \n3        0.0         0.0    -64.0   -66.0  \n4        0.0       -29.0    -48.0   -37.0  ",
      "text/html": "<div>\n<style scoped>\n    .dataframe tbody tr th:only-of-type {\n        vertical-align: middle;\n    }\n\n    .dataframe tbody tr th {\n        vertical-align: top;\n    }\n\n    .dataframe thead th {\n        text-align: right;\n    }\n</style>\n<table border=\"1\" class=\"dataframe\">\n  <thead>\n    <tr style=\"text-align: right;\">\n      <th></th>\n      <th>time_date</th>\n      <th>AES</th>\n      <th>TEC</th>\n      <th>VDE</th>\n      <th>TES</th>\n      <th>GES</th>\n      <th>GAES_GEN</th>\n      <th>consumption</th>\n      <th>GAES_PUMP</th>\n      <th>UK_BLR_RUS</th>\n      <th>UK_EURO</th>\n      <th>UK_MLD</th>\n    </tr>\n  </thead>\n  <tbody>\n    <tr>\n      <th>0</th>\n      <td>24-31.12.2020</td>\n      <td>9235</td>\n      <td>2039</td>\n      <td>621</td>\n      <td>4942</td>\n      <td>385.0</td>\n      <td>0</td>\n      <td>16693</td>\n      <td>-405.0</td>\n      <td>-84.0</td>\n      <td>-11.0</td>\n      <td>-29.0</td>\n    </tr>\n    <tr>\n      <th>1</th>\n      <td>23-31.12.2020</td>\n      <td>9221</td>\n      <td>2159</td>\n      <td>707</td>\n      <td>5549</td>\n      <td>470.0</td>\n      <td>0</td>\n      <td>17805</td>\n      <td>0.0</td>\n      <td>-43.0</td>\n      <td>-212.0</td>\n      <td>-46.0</td>\n    </tr>\n    <tr>\n      <th>2</th>\n      <td>22-31.12.2020</td>\n      <td>9249</td>\n      <td>2377</td>\n      <td>709</td>\n      <td>5906</td>\n      <td>1000.0</td>\n      <td>0</td>\n      <td>18870</td>\n      <td>0.0</td>\n      <td>-13.0</td>\n      <td>-328.0</td>\n      <td>-30.0</td>\n    </tr>\n    <tr>\n      <th>3</th>\n      <td>21-31.12.2020</td>\n      <td>9256</td>\n      <td>2499</td>\n      <td>702</td>\n      <td>6329</td>\n      <td>909.0</td>\n      <td>322</td>\n      <td>19887</td>\n      <td>0.0</td>\n      <td>0.0</td>\n      <td>-64.0</td>\n      <td>-66.0</td>\n    </tr>\n    <tr>\n      <th>4</th>\n      <td>20-31.12.2020</td>\n      <td>9213</td>\n      <td>2521</td>\n      <td>702</td>\n      <td>6640</td>\n      <td>823.0</td>\n      <td>602</td>\n      <td>20387</td>\n      <td>0.0</td>\n      <td>-29.0</td>\n      <td>-48.0</td>\n      <td>-37.0</td>\n    </tr>\n  </tbody>\n</table>\n</div>"
     },
     "execution_count": 1,
     "metadata": {},
     "output_type": "execute_result"
    }
   ],
   "source": [
    "import pandas as pd\n",
    "import altair as alt\n",
    "\n",
    "path = 'data/2014-2020.xlsx'\n",
    "df = pd.read_excel(path)\n",
    "df.drop(df.columns[len(df.columns) - 1], axis=1, inplace=True)\n",
    "df.columns = ['time_date', 'AES', 'TEC', 'VDE', 'TES', 'GES', 'GAES_GEN', 'consumption', 'GAES_PUMP', 'UK_BLR_RUS',\n",
    "              'UK_EURO', 'UK_MLD']\n",
    "df.head()\n"
   ]
  },
  {
   "cell_type": "code",
   "execution_count": 2,
   "outputs": [],
   "source": [
    "df_1 = df.copy(deep=False)\n",
    "\n",
    "\n",
    "def label_year(row):\n",
    "    if row['time_date'].endswith('2020'):\n",
    "        return '2020'\n",
    "    if row['time_date'].endswith('2019'):\n",
    "        return '2019'\n",
    "    if row['time_date'].endswith('2018'):\n",
    "        return '2018'\n",
    "    if row['time_date'].endswith('2017'):\n",
    "        return '2017'\n",
    "    if row['time_date'].endswith('2016'):\n",
    "        return '2016'\n",
    "    if row['time_date'].endswith('2015'):\n",
    "        return '2015'\n",
    "    if row['time_date'].endswith('2014'):\n",
    "        return '2014'\n",
    "    return '0'\n",
    "\n",
    "\n",
    "df_1['year'] = df_1.apply(lambda row: label_year(row), axis=1)\n",
    "df_to_draw = df_1.copy(deep=False)\n",
    "df_to_draw.drop(['consumption', 'GAES_PUMP'], axis=1, inplace=True)\n",
    "df_to_draw = df_to_draw.groupby('year')[['AES', 'TEC', 'VDE', 'TES', 'GES', 'GAES_GEN']].sum()"
   ],
   "metadata": {
    "collapsed": false,
    "pycharm": {
     "name": "#%%\n"
    }
   }
  },
  {
   "cell_type": "code",
   "execution_count": 3,
   "outputs": [
    {
     "data": {
      "text/plain": "           AES       TEC      VDE       TES         GES  GAES_GEN\nyear                                                             \n2014  88204418  14684731  1606386  68605877   7991074.0    839842\n2015  87413763  12041074  1234936  50259819   4964478.0   1554857\n2016  80762094  12841033  1093190  49879543   7113989.0   1621377\n2017  85314258  12208062  1177032  44945303   8531952.0   1575099\n2018  84351328  12261018  1863726  47747092  10072767.0   1564867",
      "text/html": "<div>\n<style scoped>\n    .dataframe tbody tr th:only-of-type {\n        vertical-align: middle;\n    }\n\n    .dataframe tbody tr th {\n        vertical-align: top;\n    }\n\n    .dataframe thead th {\n        text-align: right;\n    }\n</style>\n<table border=\"1\" class=\"dataframe\">\n  <thead>\n    <tr style=\"text-align: right;\">\n      <th></th>\n      <th>AES</th>\n      <th>TEC</th>\n      <th>VDE</th>\n      <th>TES</th>\n      <th>GES</th>\n      <th>GAES_GEN</th>\n    </tr>\n    <tr>\n      <th>year</th>\n      <th></th>\n      <th></th>\n      <th></th>\n      <th></th>\n      <th></th>\n      <th></th>\n    </tr>\n  </thead>\n  <tbody>\n    <tr>\n      <th>2014</th>\n      <td>88204418</td>\n      <td>14684731</td>\n      <td>1606386</td>\n      <td>68605877</td>\n      <td>7991074.0</td>\n      <td>839842</td>\n    </tr>\n    <tr>\n      <th>2015</th>\n      <td>87413763</td>\n      <td>12041074</td>\n      <td>1234936</td>\n      <td>50259819</td>\n      <td>4964478.0</td>\n      <td>1554857</td>\n    </tr>\n    <tr>\n      <th>2016</th>\n      <td>80762094</td>\n      <td>12841033</td>\n      <td>1093190</td>\n      <td>49879543</td>\n      <td>7113989.0</td>\n      <td>1621377</td>\n    </tr>\n    <tr>\n      <th>2017</th>\n      <td>85314258</td>\n      <td>12208062</td>\n      <td>1177032</td>\n      <td>44945303</td>\n      <td>8531952.0</td>\n      <td>1575099</td>\n    </tr>\n    <tr>\n      <th>2018</th>\n      <td>84351328</td>\n      <td>12261018</td>\n      <td>1863726</td>\n      <td>47747092</td>\n      <td>10072767.0</td>\n      <td>1564867</td>\n    </tr>\n  </tbody>\n</table>\n</div>"
     },
     "execution_count": 3,
     "metadata": {},
     "output_type": "execute_result"
    }
   ],
   "source": [
    "df_to_draw.head()\n"
   ],
   "metadata": {
    "collapsed": false,
    "pycharm": {
     "name": "#%%\n"
    }
   }
  },
  {
   "cell_type": "code",
   "execution_count": 4,
   "outputs": [
    {
     "data": {
      "text/plain": "    year corporation  consumption\n35  2014    GAES_GEN     839842.0\n16  2016         VDE    1093190.0\n17  2017         VDE    1177032.0\n15  2015         VDE    1234936.0\n40  2019    GAES_GEN    1323192.0",
      "text/html": "<div>\n<style scoped>\n    .dataframe tbody tr th:only-of-type {\n        vertical-align: middle;\n    }\n\n    .dataframe tbody tr th {\n        vertical-align: top;\n    }\n\n    .dataframe thead th {\n        text-align: right;\n    }\n</style>\n<table border=\"1\" class=\"dataframe\">\n  <thead>\n    <tr style=\"text-align: right;\">\n      <th></th>\n      <th>year</th>\n      <th>corporation</th>\n      <th>consumption</th>\n    </tr>\n  </thead>\n  <tbody>\n    <tr>\n      <th>35</th>\n      <td>2014</td>\n      <td>GAES_GEN</td>\n      <td>839842.0</td>\n    </tr>\n    <tr>\n      <th>16</th>\n      <td>2016</td>\n      <td>VDE</td>\n      <td>1093190.0</td>\n    </tr>\n    <tr>\n      <th>17</th>\n      <td>2017</td>\n      <td>VDE</td>\n      <td>1177032.0</td>\n    </tr>\n    <tr>\n      <th>15</th>\n      <td>2015</td>\n      <td>VDE</td>\n      <td>1234936.0</td>\n    </tr>\n    <tr>\n      <th>40</th>\n      <td>2019</td>\n      <td>GAES_GEN</td>\n      <td>1323192.0</td>\n    </tr>\n  </tbody>\n</table>\n</div>"
     },
     "execution_count": 4,
     "metadata": {},
     "output_type": "execute_result"
    }
   ],
   "source": [
    "df_to_draw['year'] = [x for x in range(2014, 2021)]\n",
    "df_to_draw = pd.melt(df_to_draw, id_vars=['year'], var_name = 'corporation', value_name = 'consumption')\n",
    "df_to_draw = df_to_draw.sort_values(by=['consumption'])\n",
    "df_to_draw.head()"
   ],
   "metadata": {
    "collapsed": false,
    "pycharm": {
     "name": "#%%\n"
    }
   }
  },
  {
   "cell_type": "markdown",
   "source": [
    "# № 1\n",
    "\n",
    "Вибрав для представлення стовпці з посортованими по зростанню використання електороенергії способа.\n",
    "Переваги: можливо миттєво побачити що виробляє більше, а що менше.\n",
    "Недоліки: важко порівнювати джерела, які виробляють незначну кількість\n"
   ],
   "metadata": {
    "collapsed": false,
    "pycharm": {
     "name": "#%% md\n"
    }
   }
  },
  {
   "cell_type": "code",
   "execution_count": null,
   "outputs": [],
   "source": [
    "alt.Chart(df_to_draw).mark_bar().encode(\n",
    "    x = alt.X('year:N'),\n",
    "    y = alt.Y('consumption:Q'),\n",
    "    color = alt.Color('corporation:N'),\n",
    "    order=alt.Order(\n",
    "      # Sort the segments of the bars by this field\n",
    "      'consumption',\n",
    "      sort='descending'\n",
    "    )\n",
    ").properties(width = 500, height = 500)\n"
   ],
   "metadata": {
    "collapsed": false,
    "pycharm": {
     "name": "#%%\n"
    }
   }
  },
  {
   "cell_type": "markdown",
   "source": [
    "# № 2\n",
    "\n",
    "Переваги: чітко видно зміну, видно різницю загальної кількості між роками, замітна різниця споживання одного джерела.\n",
    "Недоліки: важко витягнути чітке число споживання енерегії з одного джерела."
   ],
   "metadata": {
    "collapsed": false,
    "pycharm": {
     "name": "#%% md\n"
    }
   }
  },
  {
   "cell_type": "code",
   "execution_count": null,
   "outputs": [],
   "source": [
    "alt.Chart(df_to_draw).mark_area().encode(\n",
    "    x = alt.X('year:T'),\n",
    "    y = alt.Y('consumption:Q'),\n",
    "    color=alt.Color(\"corporation:N\")\n",
    ")\n",
    "\n",
    "\n"
   ],
   "metadata": {
    "collapsed": false,
    "pycharm": {
     "name": "#%%\n"
    }
   }
  },
  {
   "cell_type": "markdown",
   "source": [
    "# №3\n",
    "Переваги: чітко замітні просадки кожної джерела\n",
    "Недоліки: малі значення доволі сильно зливаються"
   ],
   "metadata": {
    "collapsed": false,
    "pycharm": {
     "name": "#%% md\n"
    }
   }
  },
  {
   "cell_type": "code",
   "execution_count": null,
   "outputs": [],
   "source": [
    "def hour(row):\n",
    "    ind = row['time_date'].find(\"-\")\n",
    "    return row['time_date'][:ind]\n",
    "\n",
    "df_3 = df.copy(deep=False)\n",
    "df_3['hour'] = df_3.apply(lambda row: hour(row), axis=1)\n",
    "df_3.drop(['consumption', 'GAES_PUMP', 'time_date'], axis = 1, inplace = True)\n",
    "df_3 = df_3.groupby('hour')[['AES', 'TEC', 'VDE', 'TES', 'GES', 'GAES_GEN']].mean()\n",
    "df_3['hour'] = [x for x in range(1, 25)]\n",
    "df_3 = pd.melt(df_3, id_vars=['hour'], var_name = 'corporation', value_name = 'consumption')\n",
    "\n",
    "alt.Chart(df_3).transform_filter(alt.FieldRangePredicate(field='hour', range=[1, 24])).mark_line().encode(\n",
    "    x = alt.X('hour:Q', scale=alt.Scale(domain=[1, 24])),\n",
    "    y = alt.Y('consumption:Q'),\n",
    "    color = alt.Color('corporation:N')\n",
    ").properties(height = 150, width = 700)\n",
    "\n",
    "\n"
   ],
   "metadata": {
    "collapsed": false,
    "pycharm": {
     "name": "#%%\n"
    }
   }
  }
 ],
 "metadata": {
  "kernelspec": {
   "display_name": "Python 3",
   "language": "python",
   "name": "python3"
  },
  "language_info": {
   "codemirror_mode": {
    "name": "ipython",
    "version": 2
   },
   "file_extension": ".py",
   "mimetype": "text/x-python",
   "name": "python",
   "nbconvert_exporter": "python",
   "pygments_lexer": "ipython2",
   "version": "2.7.6"
  }
 },
 "nbformat": 4,
 "nbformat_minor": 0
}